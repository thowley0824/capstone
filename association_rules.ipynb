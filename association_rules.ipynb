{
  "cells": [
    {
      "cell_type": "markdown",
      "metadata": {
        "id": "view-in-github",
        "colab_type": "text"
      },
      "source": [
        "<a href=\"https://colab.research.google.com/github/thowley0824/howley_thomas_capstone/blob/main/association_rules.ipynb\" target=\"_parent\"><img src=\"https://colab.research.google.com/assets/colab-badge.svg\" alt=\"Open In Colab\"/></a>"
      ]
    },
    {
      "cell_type": "code",
      "execution_count": null,
      "metadata": {
        "application/vnd.databricks.v1+cell": {
          "cellMetadata": {},
          "inputWidgets": {},
          "nuid": "b48d1157-cb79-47bf-9669-18d7d92bad87",
          "showTitle": false,
          "title": ""
        },
        "id": "jNiyEG5aMBfh"
      },
      "outputs": [],
      "source": [
        "%pip install mlxtend"
      ]
    },
    {
      "cell_type": "code",
      "execution_count": null,
      "metadata": {
        "application/vnd.databricks.v1+cell": {
          "cellMetadata": {},
          "inputWidgets": {},
          "nuid": "9b648d06-f835-43a8-99a4-48b4c329c160",
          "showTitle": false,
          "title": ""
        },
        "id": "_Ksd7sI0MBfi"
      },
      "outputs": [],
      "source": [
        "%run /databricks-yoda"
      ]
    },
    {
      "cell_type": "code",
      "execution_count": null,
      "metadata": {
        "application/vnd.databricks.v1+cell": {
          "cellMetadata": {},
          "inputWidgets": {},
          "nuid": "45fdc62f-3304-4941-908c-1c52f845a1a1",
          "showTitle": false,
          "title": ""
        },
        "id": "018Dd5VlMBfi"
      },
      "outputs": [],
      "source": [
        "import pandas as pd\n",
        "import numpy as np\n",
        "from mlxtend.frequent_patterns import apriori, association_rules\n",
        "from mlxtend.preprocessing import TransactionEncoder"
      ]
    },
    {
      "cell_type": "code",
      "execution_count": null,
      "metadata": {
        "application/vnd.databricks.v1+cell": {
          "cellMetadata": {},
          "inputWidgets": {},
          "nuid": "b8b19247-bfea-4e74-82ed-5974eaf60dc0",
          "showTitle": false,
          "title": ""
        },
        "id": "sicT6OPfMBfj"
      },
      "outputs": [],
      "source": [
        "# CONFIGURE SPARK CONNECTOR\n",
        "\n",
        "# Refresh token\n",
        "REFRESH_TOKEN = get_refresh_token()\n",
        "\n",
        "# Register token\n",
        "snowflake_databricks = DatabricksYoda()\n",
        "snowflake_databricks.request_token(REFRESH_TOKEN, 'refresh_token')\n",
        "\n",
        "# Get user email\n",
        "user_email = spark.sql(\"SELECT CURRENT_USER\").rdd.map(list).first()[0]\n",
        "\n",
        "# Create connection to the snowflake database\n",
        "engine = snowflake_databricks.create_snowflake_oauth_connection(user_email)"
      ]
    },
    {
      "cell_type": "code",
      "execution_count": null,
      "metadata": {
        "application/vnd.databricks.v1+cell": {
          "cellMetadata": {},
          "inputWidgets": {},
          "nuid": "3f96c2fc-e67a-42f6-a340-295f17abd922",
          "showTitle": false,
          "title": ""
        },
        "id": "UdV-6UdMMBfj"
      },
      "outputs": [],
      "source": [
        "# A functioned defined to create clean table displays\n",
        "def format_table(df, title, index_remap =None,float_cols=None):\n",
        "\n",
        "    if index_remap is not None:\n",
        "        table = df.rename(index=index_remap)\n",
        "    else:\n",
        "        table = df.copy()\n",
        "\n",
        "    s = table.style.set_table_styles([{'selector': 'th.col_heading',\n",
        "                         'props': 'text-align: center; font-size: 1em;'},\n",
        "                         {'selector': 'th.index_name',\n",
        "                         'props': 'text-align: center; font-size: 1em;'},\n",
        "                        {'selector': '.output',\n",
        "                         'props': 'flex-direction: row;'},\n",
        "                        {'selector': 'th:not(.index_name)',\n",
        "                        'props': 'background-color: #c9c9c9; padding: 0.4em 0.4em 0.4em 0.4em; column-width: 100px;'},\n",
        "                        {'selector': 'th.blank.level0',\n",
        "                        'props': 'background-color: white;'},\n",
        "                        {'selector': 'td',\n",
        "                        'props': 'text-align: center; padding: 0.1em 0.1em 0.1em 0.1em; border: 1px solid #444444;'}],\n",
        "                                     overwrite=False)\n",
        "    s = s.set_table_attributes(\"style='display:inline'\").set_caption(title)\\\n",
        "            .set_table_styles([{'selector': 'caption',\n",
        "                        'props': 'caption-side:top; text-align:left; font-size:1.2em; font-weight:bold; padding:1em;'}],\n",
        "                        overwrite=False)\n",
        "    if float_cols is not None:\n",
        "        float_format_dict = {n:'{:0.2}'.format for n in float_cols}\n",
        "\n",
        "        s = s.format(\n",
        "                    formatter=float_format_dict)\n",
        "    return s"
      ]
    },
    {
      "cell_type": "code",
      "execution_count": null,
      "metadata": {
        "application/vnd.databricks.v1+cell": {
          "cellMetadata": {},
          "inputWidgets": {},
          "nuid": "3bba25a9-bfe3-490f-a4f3-36ff0b2f01dd",
          "showTitle": false,
          "title": ""
        },
        "id": "rd1UV0twMBfj"
      },
      "outputs": [],
      "source": [
        "# RETREIVE DATA FROM THE SNOWFLAKE SOURCE TABLE\n",
        "\n",
        "# Define the queries for obtaining data from the snowflake table\n",
        "q_all_users = f\"\"\"select\n",
        "                    product_1, product_2, product_3, product_4, product_5,\n",
        "                    product_6, product_7, product_8, product_9, product_10\n",
        "            from prod__workspace__us.SCRATCH_T_STRATEGICFINANCE.user_transactions_by_product;\n",
        "         \"\"\"\n",
        "\n",
        "q_new_users = f\"\"\"select\n",
        "                    product_1, product_2, product_3, product_4, product_5,\n",
        "                    product_6, product_7, product_8, product_9, product_10\n",
        "            from prod__workspace__us.SCRATCH_T_STRATEGICFINANCE.user_transactions_by_product\n",
        "            where new_user_flag = 1;\n",
        "         \"\"\"\n",
        "\n",
        "q_existing_users = f\"\"\"select\n",
        "                    product_1, product_2, product_3, product_4, product_5,\n",
        "                    product_6, product_7, product_8, product_9, product_10\n",
        "            from prod__workspace__us.SCRATCH_T_STRATEGICFINANCE.user_transactions_by_product\n",
        "            where new_user_flag = 0;\n",
        "         \"\"\"\n",
        "\n",
        "# Create pandas dataframes containing data from Snowflake\n",
        "all_users_df = pd.read_sql(q_all_users, engine)\n",
        "new_users_df = pd.read_sql(q_new_users, engine)\n",
        "existing_users_df = pd.read_sql(q_existing_users, engine)"
      ]
    },
    {
      "cell_type": "code",
      "execution_count": null,
      "metadata": {
        "application/vnd.databricks.v1+cell": {
          "cellMetadata": {},
          "inputWidgets": {},
          "nuid": "86863c1e-c6ac-4e1d-b6b3-8933ac954fa1",
          "showTitle": false,
          "title": ""
        },
        "id": "hVOw8jNZMBfk"
      },
      "outputs": [],
      "source": [
        "# CLEAN UP THE DATA\n",
        "\n",
        "for df in [all_users_df, new_users_df, existing_users_df]:\n",
        "    # Convert column names to lowercase\n",
        "    df.columns = df.columns.str.lower()\n",
        "\n",
        "    # Convert cell values to bools: if cell = 0 -> False, else -> True\n",
        "    for column in df.columns:\n",
        "        df[column] = np.where(df[column] == 0, False,True)"
      ]
    },
    {
      "cell_type": "code",
      "execution_count": null,
      "metadata": {
        "application/vnd.databricks.v1+cell": {
          "cellMetadata": {},
          "inputWidgets": {},
          "nuid": "f39f2086-fce3-4624-a890-e712adcce7d4",
          "showTitle": false,
          "title": ""
        },
        "id": "d9_83trFMBfk"
      },
      "outputs": [],
      "source": [
        "# GENERATE THE SINGLE ITEM SUPPORT DATA AND FORMAT FOR DISPLAY\n",
        "\n",
        "all_single_supports = pd.DataFrame({'All Users': all_users_df.mean(),\n",
        "                             'Existing Users': existing_users_df.mean(),\n",
        "                             'New Users': new_users_df.mean()\n",
        "                            })\n",
        "\n",
        "descr_stats = all_single_supports.describe()\n",
        "descr_stats = descr_stats.loc[~descr_stats.index.isin(['count','std'])]\n",
        "\n",
        "sup_new_index_names = {'product_1': 'Product 1',\n",
        "                       'product_2': 'Product 2',\n",
        "                       'product_3': 'Product 3',\n",
        "                       'product_4': 'Product 4',\n",
        "                       'product_5': 'Product 5',\n",
        "                       'product_6': 'Product 6',\n",
        "                       'product_7': 'Product 7',\n",
        "                       'product_8': 'Product 8',\n",
        "                       'product_9': 'Product 9',\n",
        "                       'product_10': 'Product 10'}\n",
        "descr_new_index_names = {'mean': 'Mean',\n",
        "                         'min': 'Minimum',\n",
        "                         '25%': '25th Perc.',\n",
        "                         '50%': 'Median',\n",
        "                         '75%': '75th Perc.',\n",
        "                         'max': 'Maximum'}\n",
        "\n",
        "sup_float_col_names = ['All Users','Existing Users','New Users']\n",
        "descr_float_col_names = ['All Users','Existing Users','New Users']\n",
        "\n",
        "sup_tbl = format_table(all_single_supports, 'Single Item Supports By User Subset',\n",
        "                       index_remap=sup_new_index_names,float_cols=sup_float_col_names)\n",
        "descr_tbl = format_table(descr_stats, '',index_remap=descr_new_index_names,\n",
        "                         float_cols=descr_float_col_names)"
      ]
    },
    {
      "cell_type": "code",
      "execution_count": null,
      "metadata": {
        "application/vnd.databricks.v1+cell": {
          "cellMetadata": {},
          "inputWidgets": {},
          "nuid": "fa60db6c-962e-46ee-aaf5-1ac9ae535503",
          "showTitle": false,
          "title": ""
        },
        "id": "b8_IncTaMBfl"
      },
      "outputs": [],
      "source": [
        "# GENERATE ALL FREQUENT ITEMSETS\n",
        "\n",
        "all_users_freq_itemsets = apriori(all_users_df, min_support = 0.0021,\n",
        "                                  use_colnames = True, verbose = 1)\n",
        "existing_users_freq_itemsets = apriori(existing_users_df, min_support = 0.00165,\n",
        "                                       use_colnames = True, verbose = 1)\n",
        "new_users_freq_itemsets = apriori(new_users_df, min_support = 0.00006,\n",
        "                                  use_colnames = True, verbose = 1)"
      ]
    },
    {
      "cell_type": "code",
      "execution_count": null,
      "metadata": {
        "application/vnd.databricks.v1+cell": {
          "cellMetadata": {},
          "inputWidgets": {},
          "nuid": "2c240913-cb4e-4ba1-ab0c-a118726ebce8",
          "showTitle": false,
          "title": ""
        },
        "id": "Fo5oQNbCMBfl"
      },
      "outputs": [],
      "source": [
        "# A function for obtaining the top rules ranked both by lift and by confidence\n",
        "\n",
        "def obtain_top_rules_by_lift_and_confidence(freq_itemsets):\n",
        "    rules = association_rules(freq_itemsets, metric = \"confidence\", min_threshold = 0.0)\n",
        "\n",
        "    col_rename_dict = {'antecedents': 'LHS',\n",
        "             'consequents': 'RHS',\n",
        "             'antecedent support': 'LHS Support',\n",
        "             'consequent support': 'RHS Support',\n",
        "             'support': 'Support',\n",
        "             'confidence': 'Confidence',\n",
        "             'lift': 'Lift'}\n",
        "\n",
        "    rules = rules.rename(columns=col_rename_dict)\n",
        "\n",
        "    rules['lhs_len'] = rules['LHS'].apply(lambda x: len(x))\n",
        "    rules['rhs_len'] = rules['RHS'].apply(lambda x: len(x))\n",
        "    rules = rules[(rules['lhs_len']==1) & (rules['rhs_len']==1)]\n",
        "\n",
        "    for i in range(len(rules.index)):\n",
        "        rules.at[i,'LHS'] = list(rules.loc[i,'LHS'])[0]\n",
        "        rules.at[i,'RHS'] = list(rules.loc[i,'RHS'])[0]\n",
        "\n",
        "    rules = rules[['LHS','RHS','Lift','Confidence', 'Support', 'LHS Support','RHS Support']]\n",
        "\n",
        "    rules_by_lift = rules.sort_values(by=['Lift', 'Confidence'], ascending = False)\n",
        "    rules_by_conf = rules.sort_values(by=['Confidence'], ascending = False)\n",
        "\n",
        "    rules_by_lift.reset_index(drop=True,inplace=True)\n",
        "    rules_by_conf.reset_index(drop=True,inplace=True)\n",
        "\n",
        "    return rules_by_lift.head(5), rules_by_conf.head(5)"
      ]
    },
    {
      "cell_type": "code",
      "execution_count": null,
      "metadata": {
        "application/vnd.databricks.v1+cell": {
          "cellMetadata": {},
          "inputWidgets": {},
          "nuid": "3cc9c5ea-ea82-4a9e-9464-11ce75c289dd",
          "showTitle": false,
          "title": ""
        },
        "id": "KDVi0B3yMBfm"
      },
      "outputs": [],
      "source": [
        "# Obtain the top rules for each user group\n",
        "\n",
        "all_users_lift, all_users_conf = obtain_top_rules_by_lift_and_confidence(\n",
        "    all_users_freq_itemsets)\n",
        "existing_users_lift, existing_users_conf = obtain_top_rules_by_lift_and_confidence(\n",
        "    existing_users_freq_itemsets)\n",
        "new_users_lift, new_users_conf = obtain_top_rules_by_lift_and_confidence(\n",
        "    new_users_freq_itemsets)"
      ]
    },
    {
      "cell_type": "code",
      "execution_count": null,
      "metadata": {
        "application/vnd.databricks.v1+cell": {
          "cellMetadata": {},
          "inputWidgets": {},
          "nuid": "9d86e0c9-b853-4d28-9809-f34adba1352e",
          "showTitle": false,
          "title": ""
        },
        "id": "299HVYIFMBfm"
      },
      "outputs": [],
      "source": [
        "# Format the top rules for display\n",
        "\n",
        "rules_new_index_names = {0: 1,\n",
        "                    1: 2,\n",
        "                    2: 3,\n",
        "                    3: 4,\n",
        "                    4: 5}\n",
        "\n",
        "rules_float_col_names = ['Lift','Confidence', 'Support', 'LHS Support','RHS Support']\n",
        "\n",
        "all_lift_tbl = format_table(all_users_lift, 'All Users: Top Rules By Lift',\n",
        "                            index_remap=rules_new_index_names,float_cols=rules_float_col_names)\n",
        "all_conf_tbl = format_table(all_users_conf, 'All Users: Top Rules By Confidence',\n",
        "                            index_remap=rules_new_index_names,\n",
        "                            float_cols=rules_float_col_names)\n",
        "existing_lift_tbl = format_table(existing_users_lift, 'Existing Users: Top Rules By Lift',\n",
        "                                 index_remap=rules_new_index_names,\n",
        "                                 float_cols=rules_float_col_names)\n",
        "existing_conf_tbl = format_table(existing_users_conf, 'Existing Users: Top Rules By Confidence',\n",
        "                                 index_remap=rules_new_index_names,\n",
        "                                 float_cols=rules_float_col_names)\n",
        "new_lift_tbl = format_table(new_users_lift, 'New Users: Top Rules By Lift',index_remap=rules_new_index_names,\n",
        "                            float_cols=rules_float_col_names)\n",
        "new_conf_tbl = format_table(new_users_conf, 'New Users: Top Rules By Confidence',index_remap=rules_new_index_names,\n",
        "                            float_cols=rules_float_col_names)"
      ]
    },
    {
      "cell_type": "code",
      "execution_count": null,
      "metadata": {
        "application/vnd.databricks.v1+cell": {
          "cellMetadata": {},
          "inputWidgets": {},
          "nuid": "bbae3e30-ca63-4132-a32e-7736cc0708ee",
          "showTitle": false,
          "title": ""
        },
        "id": "Me_AwNIDMBfm"
      },
      "outputs": [],
      "source": [
        "# Generate the tabular views\n",
        "\n",
        "space = \"\\xa0\" * 20\n",
        "displayHTML(sup_tbl._repr_html_()+space+descr_tbl._repr_html_())\n",
        "\n",
        "displayHTML(all_lift_tbl._repr_html_())\n",
        "displayHTML(all_conf_tbl._repr_html_())\n",
        "displayHTML(existing_lift_tbl._repr_html_())\n",
        "displayHTML(existing_conf_tbl._repr_html_())\n",
        "displayHTML(new_lift_tbl._repr_html_())\n",
        "displayHTML(new_conf_tbl._repr_html_())"
      ]
    }
  ],
  "metadata": {
    "application/vnd.databricks.v1+notebook": {
      "dashboards": [],
      "environmentMetadata": null,
      "language": "python",
      "notebookMetadata": {
        "pythonIndentUnit": 4
      },
      "notebookName": "association_rules",
      "widgets": {}
    },
    "colab": {
      "provenance": [],
      "include_colab_link": true
    }
  },
  "nbformat": 4,
  "nbformat_minor": 0
}